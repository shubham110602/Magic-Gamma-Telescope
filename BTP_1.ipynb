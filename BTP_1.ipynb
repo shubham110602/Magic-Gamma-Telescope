{
  "cells": [
    {
      "cell_type": "code",
      "execution_count": null,
      "metadata": {
        "id": "EiCb2Lfg4qZR"
      },
      "outputs": [],
      "source": [
        "import numpy as np\n",
        "import pandas as pd\n",
        "import matplotlib.pyplot as plt\n",
        "from sklearn.preprocessing import StandardScaler\n",
        "from imblearn.over_sampling import RandomOverSampler"
      ]
    },
    {
      "cell_type": "code",
      "execution_count": null,
      "metadata": {
        "colab": {
          "base_uri": "https://localhost:8080/",
          "height": 206
        },
        "id": "K2zbwsbD41cl",
        "outputId": "86c31d67-870d-4353-8ef5-eed5f7c8ab8c"
      },
      "outputs": [
        {
          "output_type": "execute_result",
          "data": {
            "text/plain": [
              "   fLenghth    fWidth   fSize   fConc  fConc1     fAsym  fM3Long  fM3Trans  \\\n",
              "0   28.7967   16.0021  2.6449  0.3918  0.1982   27.7004  22.0110   -8.2027   \n",
              "1   31.6036   11.7235  2.5185  0.5303  0.3773   26.2722  23.8238   -9.9574   \n",
              "2  162.0520  136.0310  4.0612  0.0374  0.0187  116.7410 -64.8580  -45.2160   \n",
              "3   23.8172    9.5728  2.3385  0.6147  0.3922   27.2107  -6.4633   -7.1513   \n",
              "4   75.1362   30.9205  3.1611  0.3168  0.1832   -5.5277  28.5525   21.8393   \n",
              "\n",
              "    fAlpha     fDist  class  \n",
              "0  40.0920   81.8828      1  \n",
              "1   6.3609  205.2610      1  \n",
              "2  76.9600  256.7880      1  \n",
              "3  10.4490  116.7370      1  \n",
              "4   4.6480  356.4620      1  "
            ],
            "text/html": [
              "\n",
              "  <div id=\"df-56f91e3d-f226-4bd7-95a1-d6b7e6e09f29\" class=\"colab-df-container\">\n",
              "    <div>\n",
              "<style scoped>\n",
              "    .dataframe tbody tr th:only-of-type {\n",
              "        vertical-align: middle;\n",
              "    }\n",
              "\n",
              "    .dataframe tbody tr th {\n",
              "        vertical-align: top;\n",
              "    }\n",
              "\n",
              "    .dataframe thead th {\n",
              "        text-align: right;\n",
              "    }\n",
              "</style>\n",
              "<table border=\"1\" class=\"dataframe\">\n",
              "  <thead>\n",
              "    <tr style=\"text-align: right;\">\n",
              "      <th></th>\n",
              "      <th>fLenghth</th>\n",
              "      <th>fWidth</th>\n",
              "      <th>fSize</th>\n",
              "      <th>fConc</th>\n",
              "      <th>fConc1</th>\n",
              "      <th>fAsym</th>\n",
              "      <th>fM3Long</th>\n",
              "      <th>fM3Trans</th>\n",
              "      <th>fAlpha</th>\n",
              "      <th>fDist</th>\n",
              "      <th>class</th>\n",
              "    </tr>\n",
              "  </thead>\n",
              "  <tbody>\n",
              "    <tr>\n",
              "      <th>0</th>\n",
              "      <td>28.7967</td>\n",
              "      <td>16.0021</td>\n",
              "      <td>2.6449</td>\n",
              "      <td>0.3918</td>\n",
              "      <td>0.1982</td>\n",
              "      <td>27.7004</td>\n",
              "      <td>22.0110</td>\n",
              "      <td>-8.2027</td>\n",
              "      <td>40.0920</td>\n",
              "      <td>81.8828</td>\n",
              "      <td>1</td>\n",
              "    </tr>\n",
              "    <tr>\n",
              "      <th>1</th>\n",
              "      <td>31.6036</td>\n",
              "      <td>11.7235</td>\n",
              "      <td>2.5185</td>\n",
              "      <td>0.5303</td>\n",
              "      <td>0.3773</td>\n",
              "      <td>26.2722</td>\n",
              "      <td>23.8238</td>\n",
              "      <td>-9.9574</td>\n",
              "      <td>6.3609</td>\n",
              "      <td>205.2610</td>\n",
              "      <td>1</td>\n",
              "    </tr>\n",
              "    <tr>\n",
              "      <th>2</th>\n",
              "      <td>162.0520</td>\n",
              "      <td>136.0310</td>\n",
              "      <td>4.0612</td>\n",
              "      <td>0.0374</td>\n",
              "      <td>0.0187</td>\n",
              "      <td>116.7410</td>\n",
              "      <td>-64.8580</td>\n",
              "      <td>-45.2160</td>\n",
              "      <td>76.9600</td>\n",
              "      <td>256.7880</td>\n",
              "      <td>1</td>\n",
              "    </tr>\n",
              "    <tr>\n",
              "      <th>3</th>\n",
              "      <td>23.8172</td>\n",
              "      <td>9.5728</td>\n",
              "      <td>2.3385</td>\n",
              "      <td>0.6147</td>\n",
              "      <td>0.3922</td>\n",
              "      <td>27.2107</td>\n",
              "      <td>-6.4633</td>\n",
              "      <td>-7.1513</td>\n",
              "      <td>10.4490</td>\n",
              "      <td>116.7370</td>\n",
              "      <td>1</td>\n",
              "    </tr>\n",
              "    <tr>\n",
              "      <th>4</th>\n",
              "      <td>75.1362</td>\n",
              "      <td>30.9205</td>\n",
              "      <td>3.1611</td>\n",
              "      <td>0.3168</td>\n",
              "      <td>0.1832</td>\n",
              "      <td>-5.5277</td>\n",
              "      <td>28.5525</td>\n",
              "      <td>21.8393</td>\n",
              "      <td>4.6480</td>\n",
              "      <td>356.4620</td>\n",
              "      <td>1</td>\n",
              "    </tr>\n",
              "  </tbody>\n",
              "</table>\n",
              "</div>\n",
              "    <div class=\"colab-df-buttons\">\n",
              "\n",
              "  <div class=\"colab-df-container\">\n",
              "    <button class=\"colab-df-convert\" onclick=\"convertToInteractive('df-56f91e3d-f226-4bd7-95a1-d6b7e6e09f29')\"\n",
              "            title=\"Convert this dataframe to an interactive table.\"\n",
              "            style=\"display:none;\">\n",
              "\n",
              "  <svg xmlns=\"http://www.w3.org/2000/svg\" height=\"24px\" viewBox=\"0 -960 960 960\">\n",
              "    <path d=\"M120-120v-720h720v720H120Zm60-500h600v-160H180v160Zm220 220h160v-160H400v160Zm0 220h160v-160H400v160ZM180-400h160v-160H180v160Zm440 0h160v-160H620v160ZM180-180h160v-160H180v160Zm440 0h160v-160H620v160Z\"/>\n",
              "  </svg>\n",
              "    </button>\n",
              "\n",
              "  <style>\n",
              "    .colab-df-container {\n",
              "      display:flex;\n",
              "      gap: 12px;\n",
              "    }\n",
              "\n",
              "    .colab-df-convert {\n",
              "      background-color: #E8F0FE;\n",
              "      border: none;\n",
              "      border-radius: 50%;\n",
              "      cursor: pointer;\n",
              "      display: none;\n",
              "      fill: #1967D2;\n",
              "      height: 32px;\n",
              "      padding: 0 0 0 0;\n",
              "      width: 32px;\n",
              "    }\n",
              "\n",
              "    .colab-df-convert:hover {\n",
              "      background-color: #E2EBFA;\n",
              "      box-shadow: 0px 1px 2px rgba(60, 64, 67, 0.3), 0px 1px 3px 1px rgba(60, 64, 67, 0.15);\n",
              "      fill: #174EA6;\n",
              "    }\n",
              "\n",
              "    .colab-df-buttons div {\n",
              "      margin-bottom: 4px;\n",
              "    }\n",
              "\n",
              "    [theme=dark] .colab-df-convert {\n",
              "      background-color: #3B4455;\n",
              "      fill: #D2E3FC;\n",
              "    }\n",
              "\n",
              "    [theme=dark] .colab-df-convert:hover {\n",
              "      background-color: #434B5C;\n",
              "      box-shadow: 0px 1px 3px 1px rgba(0, 0, 0, 0.15);\n",
              "      filter: drop-shadow(0px 1px 2px rgba(0, 0, 0, 0.3));\n",
              "      fill: #FFFFFF;\n",
              "    }\n",
              "  </style>\n",
              "\n",
              "    <script>\n",
              "      const buttonEl =\n",
              "        document.querySelector('#df-56f91e3d-f226-4bd7-95a1-d6b7e6e09f29 button.colab-df-convert');\n",
              "      buttonEl.style.display =\n",
              "        google.colab.kernel.accessAllowed ? 'block' : 'none';\n",
              "\n",
              "      async function convertToInteractive(key) {\n",
              "        const element = document.querySelector('#df-56f91e3d-f226-4bd7-95a1-d6b7e6e09f29');\n",
              "        const dataTable =\n",
              "          await google.colab.kernel.invokeFunction('convertToInteractive',\n",
              "                                                    [key], {});\n",
              "        if (!dataTable) return;\n",
              "\n",
              "        const docLinkHtml = 'Like what you see? Visit the ' +\n",
              "          '<a target=\"_blank\" href=https://colab.research.google.com/notebooks/data_table.ipynb>data table notebook</a>'\n",
              "          + ' to learn more about interactive tables.';\n",
              "        element.innerHTML = '';\n",
              "        dataTable['output_type'] = 'display_data';\n",
              "        await google.colab.output.renderOutput(dataTable, element);\n",
              "        const docLink = document.createElement('div');\n",
              "        docLink.innerHTML = docLinkHtml;\n",
              "        element.appendChild(docLink);\n",
              "      }\n",
              "    </script>\n",
              "  </div>\n",
              "\n",
              "\n",
              "<div id=\"df-33e34ab6-195b-4741-9a5f-b43e4166cff8\">\n",
              "  <button class=\"colab-df-quickchart\" onclick=\"quickchart('df-33e34ab6-195b-4741-9a5f-b43e4166cff8')\"\n",
              "            title=\"Suggest charts\"\n",
              "            style=\"display:none;\">\n",
              "\n",
              "<svg xmlns=\"http://www.w3.org/2000/svg\" height=\"24px\"viewBox=\"0 0 24 24\"\n",
              "     width=\"24px\">\n",
              "    <g>\n",
              "        <path d=\"M19 3H5c-1.1 0-2 .9-2 2v14c0 1.1.9 2 2 2h14c1.1 0 2-.9 2-2V5c0-1.1-.9-2-2-2zM9 17H7v-7h2v7zm4 0h-2V7h2v10zm4 0h-2v-4h2v4z\"/>\n",
              "    </g>\n",
              "</svg>\n",
              "  </button>\n",
              "\n",
              "<style>\n",
              "  .colab-df-quickchart {\n",
              "      --bg-color: #E8F0FE;\n",
              "      --fill-color: #1967D2;\n",
              "      --hover-bg-color: #E2EBFA;\n",
              "      --hover-fill-color: #174EA6;\n",
              "      --disabled-fill-color: #AAA;\n",
              "      --disabled-bg-color: #DDD;\n",
              "  }\n",
              "\n",
              "  [theme=dark] .colab-df-quickchart {\n",
              "      --bg-color: #3B4455;\n",
              "      --fill-color: #D2E3FC;\n",
              "      --hover-bg-color: #434B5C;\n",
              "      --hover-fill-color: #FFFFFF;\n",
              "      --disabled-bg-color: #3B4455;\n",
              "      --disabled-fill-color: #666;\n",
              "  }\n",
              "\n",
              "  .colab-df-quickchart {\n",
              "    background-color: var(--bg-color);\n",
              "    border: none;\n",
              "    border-radius: 50%;\n",
              "    cursor: pointer;\n",
              "    display: none;\n",
              "    fill: var(--fill-color);\n",
              "    height: 32px;\n",
              "    padding: 0;\n",
              "    width: 32px;\n",
              "  }\n",
              "\n",
              "  .colab-df-quickchart:hover {\n",
              "    background-color: var(--hover-bg-color);\n",
              "    box-shadow: 0 1px 2px rgba(60, 64, 67, 0.3), 0 1px 3px 1px rgba(60, 64, 67, 0.15);\n",
              "    fill: var(--button-hover-fill-color);\n",
              "  }\n",
              "\n",
              "  .colab-df-quickchart-complete:disabled,\n",
              "  .colab-df-quickchart-complete:disabled:hover {\n",
              "    background-color: var(--disabled-bg-color);\n",
              "    fill: var(--disabled-fill-color);\n",
              "    box-shadow: none;\n",
              "  }\n",
              "\n",
              "  .colab-df-spinner {\n",
              "    border: 2px solid var(--fill-color);\n",
              "    border-color: transparent;\n",
              "    border-bottom-color: var(--fill-color);\n",
              "    animation:\n",
              "      spin 1s steps(1) infinite;\n",
              "  }\n",
              "\n",
              "  @keyframes spin {\n",
              "    0% {\n",
              "      border-color: transparent;\n",
              "      border-bottom-color: var(--fill-color);\n",
              "      border-left-color: var(--fill-color);\n",
              "    }\n",
              "    20% {\n",
              "      border-color: transparent;\n",
              "      border-left-color: var(--fill-color);\n",
              "      border-top-color: var(--fill-color);\n",
              "    }\n",
              "    30% {\n",
              "      border-color: transparent;\n",
              "      border-left-color: var(--fill-color);\n",
              "      border-top-color: var(--fill-color);\n",
              "      border-right-color: var(--fill-color);\n",
              "    }\n",
              "    40% {\n",
              "      border-color: transparent;\n",
              "      border-right-color: var(--fill-color);\n",
              "      border-top-color: var(--fill-color);\n",
              "    }\n",
              "    60% {\n",
              "      border-color: transparent;\n",
              "      border-right-color: var(--fill-color);\n",
              "    }\n",
              "    80% {\n",
              "      border-color: transparent;\n",
              "      border-right-color: var(--fill-color);\n",
              "      border-bottom-color: var(--fill-color);\n",
              "    }\n",
              "    90% {\n",
              "      border-color: transparent;\n",
              "      border-bottom-color: var(--fill-color);\n",
              "    }\n",
              "  }\n",
              "</style>\n",
              "\n",
              "  <script>\n",
              "    async function quickchart(key) {\n",
              "      const quickchartButtonEl =\n",
              "        document.querySelector('#' + key + ' button');\n",
              "      quickchartButtonEl.disabled = true;  // To prevent multiple clicks.\n",
              "      quickchartButtonEl.classList.add('colab-df-spinner');\n",
              "      try {\n",
              "        const charts = await google.colab.kernel.invokeFunction(\n",
              "            'suggestCharts', [key], {});\n",
              "      } catch (error) {\n",
              "        console.error('Error during call to suggestCharts:', error);\n",
              "      }\n",
              "      quickchartButtonEl.classList.remove('colab-df-spinner');\n",
              "      quickchartButtonEl.classList.add('colab-df-quickchart-complete');\n",
              "    }\n",
              "    (() => {\n",
              "      let quickchartButtonEl =\n",
              "        document.querySelector('#df-33e34ab6-195b-4741-9a5f-b43e4166cff8 button');\n",
              "      quickchartButtonEl.style.display =\n",
              "        google.colab.kernel.accessAllowed ? 'block' : 'none';\n",
              "    })();\n",
              "  </script>\n",
              "</div>\n",
              "    </div>\n",
              "  </div>\n"
            ]
          },
          "metadata": {},
          "execution_count": 3
        }
      ],
      "source": [
        "col = ['fLenghth', 'fWidth', 'fSize', 'fConc', 'fConc1', 'fAsym', 'fM3Long', 'fM3Trans', 'fAlpha', 'fDist', 'class']\n",
        "\n",
        "df = pd.read_csv(\"magic04.data\", names=col)\n",
        "df[\"class\"] = (df[\"class\"] == \"g\").astype(int)\n",
        "df.head()\n",
        "\n",
        "# for labels in col[:-1]:\n",
        "#   plt.hist(df[df[\"class\"] == 1][labels], color=\"blue\", label=\"gamma\", alpha=0.7, density=True)\n",
        "#   plt.hist(df[df[\"class\"] == 0][labels], color=\"red\", label=\"gamma\", alpha=0.7, density=True)\n",
        "#   plt.title(labels)\n",
        "#   plt.ylabel(\"Probability\")\n",
        "#   plt.xlabel(labels)\n",
        "#   plt.legend()\n",
        "#   plt.show()"
      ]
    },
    {
      "cell_type": "markdown",
      "metadata": {
        "id": "yUmzg1Y28np6"
      },
      "source": [
        "# Data Split\n"
      ]
    },
    {
      "cell_type": "code",
      "execution_count": null,
      "metadata": {
        "id": "FKD-XBuR8pSN"
      },
      "outputs": [],
      "source": [
        "df.sample(frac=1)\n",
        "train, valid, test = np.split(df.sample(frac=1), [int(0.6*len(df)), int(0.8*len(df))])"
      ]
    },
    {
      "cell_type": "code",
      "execution_count": null,
      "metadata": {
        "id": "64ZqJ7yx9DhW"
      },
      "outputs": [],
      "source": [
        "def scale_dataset(dataframe, oversample=False):\n",
        "  X = dataframe[dataframe.columns[:-1]].values\n",
        "  y = dataframe[dataframe.columns[-1]].values\n",
        "\n",
        "  scaler = StandardScaler()\n",
        "  X = scaler.fit_transform(X)\n",
        "\n",
        "  if oversample:\n",
        "    ros = RandomOverSampler()\n",
        "    X,y = ros.fit_resample(X,y)\n",
        "\n",
        "  data = np.hstack((X, np.reshape(y, (-1, 1))))\n",
        "  return data, X, y"
      ]
    },
    {
      "cell_type": "code",
      "execution_count": null,
      "metadata": {
        "id": "cUiI_IRH-bq_"
      },
      "outputs": [],
      "source": [
        "train, X_train, y_train = scale_dataset(train, oversample=True)\n",
        "valid, X_valid, y_valid = scale_dataset(valid, oversample=False)\n",
        "test, X_test, y_test = scale_dataset(test, oversample=False)"
      ]
    },
    {
      "cell_type": "markdown",
      "metadata": {
        "id": "vaDlX1aGogSy"
      },
      "source": [
        "# KNN\n"
      ]
    },
    {
      "cell_type": "code",
      "execution_count": null,
      "metadata": {
        "id": "IPEFSyuhoioY"
      },
      "outputs": [],
      "source": [
        "from sklearn.neighbors import KNeighborsClassifier\n",
        "from sklearn.metrics import classification_report"
      ]
    },
    {
      "cell_type": "code",
      "execution_count": null,
      "metadata": {
        "id": "RcC3lqIXokUB",
        "colab": {
          "base_uri": "https://localhost:8080/",
          "height": 75
        },
        "outputId": "fe11a212-2df2-4a81-deed-a9edfc25a8de"
      },
      "outputs": [
        {
          "output_type": "execute_result",
          "data": {
            "text/plain": [
              "KNeighborsClassifier()"
            ],
            "text/html": [
              "<style>#sk-container-id-1 {color: black;background-color: white;}#sk-container-id-1 pre{padding: 0;}#sk-container-id-1 div.sk-toggleable {background-color: white;}#sk-container-id-1 label.sk-toggleable__label {cursor: pointer;display: block;width: 100%;margin-bottom: 0;padding: 0.3em;box-sizing: border-box;text-align: center;}#sk-container-id-1 label.sk-toggleable__label-arrow:before {content: \"▸\";float: left;margin-right: 0.25em;color: #696969;}#sk-container-id-1 label.sk-toggleable__label-arrow:hover:before {color: black;}#sk-container-id-1 div.sk-estimator:hover label.sk-toggleable__label-arrow:before {color: black;}#sk-container-id-1 div.sk-toggleable__content {max-height: 0;max-width: 0;overflow: hidden;text-align: left;background-color: #f0f8ff;}#sk-container-id-1 div.sk-toggleable__content pre {margin: 0.2em;color: black;border-radius: 0.25em;background-color: #f0f8ff;}#sk-container-id-1 input.sk-toggleable__control:checked~div.sk-toggleable__content {max-height: 200px;max-width: 100%;overflow: auto;}#sk-container-id-1 input.sk-toggleable__control:checked~label.sk-toggleable__label-arrow:before {content: \"▾\";}#sk-container-id-1 div.sk-estimator input.sk-toggleable__control:checked~label.sk-toggleable__label {background-color: #d4ebff;}#sk-container-id-1 div.sk-label input.sk-toggleable__control:checked~label.sk-toggleable__label {background-color: #d4ebff;}#sk-container-id-1 input.sk-hidden--visually {border: 0;clip: rect(1px 1px 1px 1px);clip: rect(1px, 1px, 1px, 1px);height: 1px;margin: -1px;overflow: hidden;padding: 0;position: absolute;width: 1px;}#sk-container-id-1 div.sk-estimator {font-family: monospace;background-color: #f0f8ff;border: 1px dotted black;border-radius: 0.25em;box-sizing: border-box;margin-bottom: 0.5em;}#sk-container-id-1 div.sk-estimator:hover {background-color: #d4ebff;}#sk-container-id-1 div.sk-parallel-item::after {content: \"\";width: 100%;border-bottom: 1px solid gray;flex-grow: 1;}#sk-container-id-1 div.sk-label:hover label.sk-toggleable__label {background-color: #d4ebff;}#sk-container-id-1 div.sk-serial::before {content: \"\";position: absolute;border-left: 1px solid gray;box-sizing: border-box;top: 0;bottom: 0;left: 50%;z-index: 0;}#sk-container-id-1 div.sk-serial {display: flex;flex-direction: column;align-items: center;background-color: white;padding-right: 0.2em;padding-left: 0.2em;position: relative;}#sk-container-id-1 div.sk-item {position: relative;z-index: 1;}#sk-container-id-1 div.sk-parallel {display: flex;align-items: stretch;justify-content: center;background-color: white;position: relative;}#sk-container-id-1 div.sk-item::before, #sk-container-id-1 div.sk-parallel-item::before {content: \"\";position: absolute;border-left: 1px solid gray;box-sizing: border-box;top: 0;bottom: 0;left: 50%;z-index: -1;}#sk-container-id-1 div.sk-parallel-item {display: flex;flex-direction: column;z-index: 1;position: relative;background-color: white;}#sk-container-id-1 div.sk-parallel-item:first-child::after {align-self: flex-end;width: 50%;}#sk-container-id-1 div.sk-parallel-item:last-child::after {align-self: flex-start;width: 50%;}#sk-container-id-1 div.sk-parallel-item:only-child::after {width: 0;}#sk-container-id-1 div.sk-dashed-wrapped {border: 1px dashed gray;margin: 0 0.4em 0.5em 0.4em;box-sizing: border-box;padding-bottom: 0.4em;background-color: white;}#sk-container-id-1 div.sk-label label {font-family: monospace;font-weight: bold;display: inline-block;line-height: 1.2em;}#sk-container-id-1 div.sk-label-container {text-align: center;}#sk-container-id-1 div.sk-container {/* jupyter's `normalize.less` sets `[hidden] { display: none; }` but bootstrap.min.css set `[hidden] { display: none !important; }` so we also need the `!important` here to be able to override the default hidden behavior on the sphinx rendered scikit-learn.org. See: https://github.com/scikit-learn/scikit-learn/issues/21755 */display: inline-block !important;position: relative;}#sk-container-id-1 div.sk-text-repr-fallback {display: none;}</style><div id=\"sk-container-id-1\" class=\"sk-top-container\"><div class=\"sk-text-repr-fallback\"><pre>KNeighborsClassifier()</pre><b>In a Jupyter environment, please rerun this cell to show the HTML representation or trust the notebook. <br />On GitHub, the HTML representation is unable to render, please try loading this page with nbviewer.org.</b></div><div class=\"sk-container\" hidden><div class=\"sk-item\"><div class=\"sk-estimator sk-toggleable\"><input class=\"sk-toggleable__control sk-hidden--visually\" id=\"sk-estimator-id-1\" type=\"checkbox\" checked><label for=\"sk-estimator-id-1\" class=\"sk-toggleable__label sk-toggleable__label-arrow\">KNeighborsClassifier</label><div class=\"sk-toggleable__content\"><pre>KNeighborsClassifier()</pre></div></div></div></div></div>"
            ]
          },
          "metadata": {},
          "execution_count": 7
        }
      ],
      "source": [
        "knn_model = KNeighborsClassifier(n_neighbors=5)\n",
        "knn_model.fit(X_train, y_train)"
      ]
    },
    {
      "cell_type": "code",
      "execution_count": null,
      "metadata": {
        "id": "CrlR0HKromNw"
      },
      "outputs": [],
      "source": [
        "y_pred = knn_model.predict(X_test)"
      ]
    },
    {
      "cell_type": "code",
      "execution_count": null,
      "metadata": {
        "id": "1QLoiFsKoom4",
        "colab": {
          "base_uri": "https://localhost:8080/"
        },
        "outputId": "a5dab473-eb6f-46a4-cd92-7676e42da774"
      },
      "outputs": [
        {
          "output_type": "stream",
          "name": "stdout",
          "text": [
            "              precision    recall  f1-score   support\n",
            "\n",
            "           0       0.75      0.73      0.74      1350\n",
            "           1       0.85      0.86      0.86      2454\n",
            "\n",
            "    accuracy                           0.82      3804\n",
            "   macro avg       0.80      0.80      0.80      3804\n",
            "weighted avg       0.82      0.82      0.82      3804\n",
            "\n"
          ]
        }
      ],
      "source": [
        "print(classification_report(y_test, y_pred))"
      ]
    },
    {
      "cell_type": "markdown",
      "metadata": {
        "id": "S9h5TdK1pEUn"
      },
      "source": [
        "# NAIVE BAYES"
      ]
    },
    {
      "cell_type": "code",
      "execution_count": null,
      "metadata": {
        "id": "8uLC9DkSoqaI"
      },
      "outputs": [],
      "source": [
        "from sklearn.naive_bayes import GaussianNB"
      ]
    },
    {
      "cell_type": "code",
      "execution_count": null,
      "metadata": {
        "id": "Ajs_ZBgqpL-w"
      },
      "outputs": [],
      "source": [
        "nb_model = GaussianNB()\n",
        "nb_model = nb_model.fit(X_train, y_train)"
      ]
    },
    {
      "cell_type": "code",
      "execution_count": null,
      "metadata": {
        "id": "yW_VBmpgpOTg",
        "colab": {
          "base_uri": "https://localhost:8080/"
        },
        "outputId": "2fb6aeb6-3d81-4b07-a28c-d601957de94e"
      },
      "outputs": [
        {
          "output_type": "stream",
          "name": "stdout",
          "text": [
            "              precision    recall  f1-score   support\n",
            "\n",
            "           0       0.66      0.41      0.50      1350\n",
            "           1       0.73      0.89      0.80      2454\n",
            "\n",
            "    accuracy                           0.72      3804\n",
            "   macro avg       0.70      0.65      0.65      3804\n",
            "weighted avg       0.71      0.72      0.70      3804\n",
            "\n"
          ]
        }
      ],
      "source": [
        "y_pred = nb_model.predict(X_test)\n",
        "print(classification_report(y_test, y_pred))"
      ]
    },
    {
      "cell_type": "markdown",
      "metadata": {
        "id": "t_aJXGzxpdoU"
      },
      "source": [
        "# Support Vector Machine"
      ]
    },
    {
      "cell_type": "code",
      "execution_count": null,
      "metadata": {
        "id": "Q09mhC53pg3v"
      },
      "outputs": [],
      "source": [
        "from sklearn.svm import SVC"
      ]
    },
    {
      "cell_type": "code",
      "execution_count": null,
      "metadata": {
        "id": "9SJvCdqMpii_"
      },
      "outputs": [],
      "source": [
        "svm_model = SVC()\n",
        "svm_model = svm_model.fit(X_train, y_train)"
      ]
    },
    {
      "cell_type": "code",
      "execution_count": null,
      "metadata": {
        "id": "XCvzclaVpkQP",
        "colab": {
          "base_uri": "https://localhost:8080/"
        },
        "outputId": "22f537be-13f0-456c-97ca-1d9bd4a37f83"
      },
      "outputs": [
        {
          "output_type": "stream",
          "name": "stdout",
          "text": [
            "              precision    recall  f1-score   support\n",
            "\n",
            "           0       0.82      0.79      0.80      1350\n",
            "           1       0.88      0.91      0.90      2454\n",
            "\n",
            "    accuracy                           0.86      3804\n",
            "   macro avg       0.85      0.85      0.85      3804\n",
            "weighted avg       0.86      0.86      0.86      3804\n",
            "\n"
          ]
        }
      ],
      "source": [
        "y_pred = svm_model.predict(X_test)\n",
        "print(classification_report(y_test, y_pred))"
      ]
    },
    {
      "cell_type": "markdown",
      "source": [
        "# Logistic Regression"
      ],
      "metadata": {
        "id": "8sK4814jsXvB"
      }
    },
    {
      "cell_type": "code",
      "source": [
        "from sklearn.linear_model import LogisticRegression"
      ],
      "metadata": {
        "id": "k83hGZYisqIS"
      },
      "execution_count": null,
      "outputs": []
    },
    {
      "cell_type": "code",
      "source": [
        "lg_model = LogisticRegression()\n",
        "lg_model = lg_model.fit(X_train, y_train)"
      ],
      "metadata": {
        "id": "bq6WxWtlsr-S"
      },
      "execution_count": null,
      "outputs": []
    },
    {
      "cell_type": "code",
      "source": [
        "y_pred = lg_model.predict(X_test)\n",
        "print(classification_report(y_test, y_pred))"
      ],
      "metadata": {
        "colab": {
          "base_uri": "https://localhost:8080/"
        },
        "id": "LLe6-_X5svpe",
        "outputId": "50e7952f-7a78-4173-88a7-a7d1b5b4dd78"
      },
      "execution_count": null,
      "outputs": [
        {
          "output_type": "stream",
          "name": "stdout",
          "text": [
            "              precision    recall  f1-score   support\n",
            "\n",
            "           0       0.69      0.72      0.71      1350\n",
            "           1       0.84      0.82      0.83      2454\n",
            "\n",
            "    accuracy                           0.79      3804\n",
            "   macro avg       0.77      0.77      0.77      3804\n",
            "weighted avg       0.79      0.79      0.79      3804\n",
            "\n"
          ]
        }
      ]
    },
    {
      "cell_type": "markdown",
      "metadata": {
        "id": "Yha3GEl8ysmG"
      },
      "source": [
        "# Neural Network"
      ]
    },
    {
      "cell_type": "code",
      "execution_count": null,
      "metadata": {
        "id": "LBQywDryyvh4"
      },
      "outputs": [],
      "source": [
        "import tensorflow as tf"
      ]
    },
    {
      "cell_type": "code",
      "execution_count": null,
      "metadata": {
        "id": "EfJWv0BQyxLE"
      },
      "outputs": [],
      "source": [
        "def plot_history(history):\n",
        "  fig, (ax1, ax2) = plt.subplots(1, 2, figsize=(10, 4))\n",
        "  ax1.plot(history.history['loss'], label='loss')\n",
        "  ax1.plot(history.history['val_loss'], label='val_loss')\n",
        "  ax1.set_xlabel('Epoch')\n",
        "  ax1.set_ylabel('Binary crossentropy')\n",
        "  ax1.grid(True)\n",
        "\n",
        "  ax2.plot(history.history['accuracy'], label='accuracy')\n",
        "  ax2.plot(history.history['val_accuracy'], label='val_accuracy')\n",
        "  ax2.set_xlabel('Epoch')\n",
        "  ax2.set_ylabel('Accuracy')\n",
        "  ax2.grid(True)\n",
        "\n",
        "  plt.show()"
      ]
    },
    {
      "cell_type": "code",
      "execution_count": null,
      "metadata": {
        "id": "Ifek92RlyyqR"
      },
      "outputs": [],
      "source": [
        "def train_model(X_train, y_train, num_nodes, dropout_prob, lr, batch_size, epochs):\n",
        "  nn_model = tf.keras.Sequential([\n",
        "      tf.keras.layers.Dense(num_nodes, activation='relu', input_shape=(10,)),\n",
        "      tf.keras.layers.Dropout(dropout_prob),\n",
        "      tf.keras.layers.Dense(num_nodes, activation='relu'),\n",
        "      tf.keras.layers.Dropout(dropout_prob),\n",
        "      tf.keras.layers.Dense(1, activation='sigmoid')\n",
        "  ])\n",
        "\n",
        "  nn_model.compile(optimizer=tf.keras.optimizers.Adam(lr), loss='binary_crossentropy',\n",
        "                  metrics=['accuracy'])\n",
        "  history = nn_model.fit(\n",
        "    X_train, y_train, epochs=epochs, batch_size=batch_size, validation_split=0.2, verbose=0\n",
        "  )\n",
        "\n",
        "  return nn_model, history"
      ]
    },
    {
      "cell_type": "code",
      "execution_count": null,
      "metadata": {
        "id": "kJRsG9Riy0sp",
        "colab": {
          "base_uri": "https://localhost:8080/"
        },
        "outputId": "1ab0704d-1048-4d9c-dfca-2ea2bc44befc"
      },
      "outputs": [
        {
          "output_type": "stream",
          "name": "stdout",
          "text": [
            "16 nodes, dropout 0, lr 0.01, batch size 32\n",
            "119/119 [==============================] - 0s 2ms/step - loss: 0.3359 - accuracy: 0.8644\n",
            "16 nodes, dropout 0, lr 0.01, batch size 64\n",
            "119/119 [==============================] - 0s 2ms/step - loss: 0.3181 - accuracy: 0.8785\n",
            "16 nodes, dropout 0, lr 0.01, batch size 128\n",
            "119/119 [==============================] - 0s 2ms/step - loss: 0.3247 - accuracy: 0.8709\n",
            "16 nodes, dropout 0, lr 0.005, batch size 32\n",
            "119/119 [==============================] - 0s 2ms/step - loss: 0.3258 - accuracy: 0.8693\n",
            "16 nodes, dropout 0, lr 0.005, batch size 64\n",
            "119/119 [==============================] - 0s 2ms/step - loss: 0.3221 - accuracy: 0.8686\n",
            "16 nodes, dropout 0, lr 0.005, batch size 128\n",
            "119/119 [==============================] - 0s 2ms/step - loss: 0.3158 - accuracy: 0.8754\n",
            "16 nodes, dropout 0, lr 0.001, batch size 32\n",
            "119/119 [==============================] - 0s 2ms/step - loss: 0.3160 - accuracy: 0.8683\n",
            "16 nodes, dropout 0, lr 0.001, batch size 64\n",
            "119/119 [==============================] - 0s 2ms/step - loss: 0.3199 - accuracy: 0.8701\n",
            "16 nodes, dropout 0, lr 0.001, batch size 128\n",
            "119/119 [==============================] - 0s 2ms/step - loss: 0.3157 - accuracy: 0.8725\n",
            "16 nodes, dropout 0.2, lr 0.01, batch size 32\n",
            "119/119 [==============================] - 0s 2ms/step - loss: 0.3180 - accuracy: 0.8688\n",
            "16 nodes, dropout 0.2, lr 0.01, batch size 64\n",
            "119/119 [==============================] - 0s 2ms/step - loss: 0.3148 - accuracy: 0.8736\n",
            "16 nodes, dropout 0.2, lr 0.01, batch size 128\n",
            "119/119 [==============================] - 0s 2ms/step - loss: 0.3207 - accuracy: 0.8665\n",
            "16 nodes, dropout 0.2, lr 0.005, batch size 32\n",
            "119/119 [==============================] - 0s 2ms/step - loss: 0.3253 - accuracy: 0.8683\n",
            "16 nodes, dropout 0.2, lr 0.005, batch size 64\n",
            "119/119 [==============================] - 0s 2ms/step - loss: 0.3215 - accuracy: 0.8672\n",
            "16 nodes, dropout 0.2, lr 0.005, batch size 128\n",
            "119/119 [==============================] - 0s 2ms/step - loss: 0.3200 - accuracy: 0.8654\n",
            "16 nodes, dropout 0.2, lr 0.001, batch size 32\n",
            "119/119 [==============================] - 0s 2ms/step - loss: 0.3141 - accuracy: 0.8670\n",
            "16 nodes, dropout 0.2, lr 0.001, batch size 64\n",
            "119/119 [==============================] - 0s 2ms/step - loss: 0.3197 - accuracy: 0.8683\n",
            "16 nodes, dropout 0.2, lr 0.001, batch size 128\n",
            "119/119 [==============================] - 0s 2ms/step - loss: 0.3168 - accuracy: 0.8636\n",
            "32 nodes, dropout 0, lr 0.01, batch size 32\n",
            "119/119 [==============================] - 0s 2ms/step - loss: 0.3761 - accuracy: 0.8607\n",
            "32 nodes, dropout 0, lr 0.01, batch size 64\n",
            "119/119 [==============================] - 0s 2ms/step - loss: 0.3634 - accuracy: 0.8686\n",
            "32 nodes, dropout 0, lr 0.01, batch size 128\n",
            "119/119 [==============================] - 0s 2ms/step - loss: 0.3656 - accuracy: 0.8678\n",
            "32 nodes, dropout 0, lr 0.005, batch size 32\n",
            "119/119 [==============================] - 0s 2ms/step - loss: 0.3825 - accuracy: 0.8654\n",
            "32 nodes, dropout 0, lr 0.005, batch size 64\n",
            "119/119 [==============================] - 0s 2ms/step - loss: 0.3579 - accuracy: 0.8665\n",
            "32 nodes, dropout 0, lr 0.005, batch size 128\n",
            "119/119 [==============================] - 0s 2ms/step - loss: 0.3402 - accuracy: 0.8717\n",
            "32 nodes, dropout 0, lr 0.001, batch size 32\n",
            "119/119 [==============================] - 0s 2ms/step - loss: 0.3210 - accuracy: 0.8741\n",
            "32 nodes, dropout 0, lr 0.001, batch size 64\n",
            "119/119 [==============================] - 0s 2ms/step - loss: 0.3176 - accuracy: 0.8686\n",
            "32 nodes, dropout 0, lr 0.001, batch size 128\n",
            "119/119 [==============================] - 0s 2ms/step - loss: 0.3139 - accuracy: 0.8696\n",
            "32 nodes, dropout 0.2, lr 0.01, batch size 32\n",
            "119/119 [==============================] - 0s 2ms/step - loss: 0.3095 - accuracy: 0.8757\n",
            "32 nodes, dropout 0.2, lr 0.01, batch size 64\n",
            "119/119 [==============================] - 0s 2ms/step - loss: 0.3134 - accuracy: 0.8701\n",
            "32 nodes, dropout 0.2, lr 0.01, batch size 128\n",
            "119/119 [==============================] - 0s 2ms/step - loss: 0.3089 - accuracy: 0.8741\n",
            "32 nodes, dropout 0.2, lr 0.005, batch size 32\n",
            "119/119 [==============================] - 0s 2ms/step - loss: 0.3035 - accuracy: 0.8767\n",
            "32 nodes, dropout 0.2, lr 0.005, batch size 64\n",
            "119/119 [==============================] - 0s 2ms/step - loss: 0.3006 - accuracy: 0.8780\n",
            "32 nodes, dropout 0.2, lr 0.005, batch size 128\n",
            "119/119 [==============================] - 0s 2ms/step - loss: 0.3022 - accuracy: 0.8812\n",
            "32 nodes, dropout 0.2, lr 0.001, batch size 32\n",
            "119/119 [==============================] - 0s 2ms/step - loss: 0.3015 - accuracy: 0.8736\n",
            "32 nodes, dropout 0.2, lr 0.001, batch size 64\n",
            "119/119 [==============================] - 0s 2ms/step - loss: 0.3044 - accuracy: 0.8725\n",
            "32 nodes, dropout 0.2, lr 0.001, batch size 128\n",
            "119/119 [==============================] - 0s 2ms/step - loss: 0.3050 - accuracy: 0.8722\n",
            "64 nodes, dropout 0, lr 0.01, batch size 32\n",
            "119/119 [==============================] - 0s 2ms/step - loss: 0.4532 - accuracy: 0.8565\n",
            "64 nodes, dropout 0, lr 0.01, batch size 64\n",
            "119/119 [==============================] - 0s 2ms/step - loss: 0.4999 - accuracy: 0.8578\n",
            "64 nodes, dropout 0, lr 0.01, batch size 128\n",
            "119/119 [==============================] - 0s 2ms/step - loss: 0.5885 - accuracy: 0.8620\n",
            "64 nodes, dropout 0, lr 0.005, batch size 32\n",
            "119/119 [==============================] - 0s 2ms/step - loss: 0.5948 - accuracy: 0.8562\n",
            "64 nodes, dropout 0, lr 0.005, batch size 64\n",
            "119/119 [==============================] - 0s 2ms/step - loss: 0.5225 - accuracy: 0.8617\n",
            "64 nodes, dropout 0, lr 0.005, batch size 128\n",
            "119/119 [==============================] - 0s 3ms/step - loss: 0.4408 - accuracy: 0.8615\n",
            "64 nodes, dropout 0, lr 0.001, batch size 32\n",
            "119/119 [==============================] - 0s 2ms/step - loss: 0.3312 - accuracy: 0.8754\n",
            "64 nodes, dropout 0, lr 0.001, batch size 64\n",
            "119/119 [==============================] - 0s 2ms/step - loss: 0.3244 - accuracy: 0.8701\n",
            "64 nodes, dropout 0, lr 0.001, batch size 128\n",
            "119/119 [==============================] - 0s 2ms/step - loss: 0.3211 - accuracy: 0.8725\n",
            "64 nodes, dropout 0.2, lr 0.01, batch size 32\n",
            "119/119 [==============================] - 0s 2ms/step - loss: 0.3255 - accuracy: 0.8641\n",
            "64 nodes, dropout 0.2, lr 0.01, batch size 64\n",
            "119/119 [==============================] - 0s 2ms/step - loss: 0.3093 - accuracy: 0.8686\n",
            "64 nodes, dropout 0.2, lr 0.01, batch size 128\n",
            "119/119 [==============================] - 0s 2ms/step - loss: 0.3175 - accuracy: 0.8717\n",
            "64 nodes, dropout 0.2, lr 0.005, batch size 32\n",
            "119/119 [==============================] - 1s 3ms/step - loss: 0.3118 - accuracy: 0.8696\n",
            "64 nodes, dropout 0.2, lr 0.005, batch size 64\n",
            "119/119 [==============================] - 0s 2ms/step - loss: 0.3063 - accuracy: 0.8730\n",
            "64 nodes, dropout 0.2, lr 0.005, batch size 128\n",
            "119/119 [==============================] - 0s 2ms/step - loss: 0.3037 - accuracy: 0.8749\n",
            "64 nodes, dropout 0.2, lr 0.001, batch size 32\n",
            "119/119 [==============================] - 0s 2ms/step - loss: 0.3002 - accuracy: 0.8759\n",
            "64 nodes, dropout 0.2, lr 0.001, batch size 64\n",
            "119/119 [==============================] - 0s 2ms/step - loss: 0.2987 - accuracy: 0.8746\n",
            "64 nodes, dropout 0.2, lr 0.001, batch size 128\n",
            "119/119 [==============================] - 0s 2ms/step - loss: 0.3021 - accuracy: 0.8738\n"
          ]
        }
      ],
      "source": [
        "least_val_loss = float('inf')\n",
        "least_loss_model = None\n",
        "best_model_nodes = int(0)\n",
        "best_model_dropout = int(0)\n",
        "best_model_lr = int(0)\n",
        "best_model_batch_size = int(0)\n",
        "epochs=100\n",
        "for num_nodes in [16, 32, 64]:\n",
        "  for dropout_prob in[0, 0.2]:\n",
        "    for lr in [0.01, 0.005, 0.001]:\n",
        "      for batch_size in [32, 64, 128]:\n",
        "        print(f\"{num_nodes} nodes, dropout {dropout_prob}, lr {lr}, batch size {batch_size}\")\n",
        "        model, history = train_model(X_train, y_train, num_nodes, dropout_prob, lr, batch_size, epochs)\n",
        "        plot_history(history)\n",
        "        val_loss = model.evaluate(X_valid, y_valid)[0]\n",
        "        if val_loss < least_val_loss:\n",
        "          least_val_loss = val_loss\n",
        "          least_loss_model = model\n",
        "          best_model_nodes = num_nodes\n",
        "          best_model_dropout = dropout_prob\n",
        "          best_model_lr = lr\n",
        "          best_model_batch_size = batch_size"
      ]
    },
    {
      "cell_type": "code",
      "execution_count": null,
      "metadata": {
        "id": "4RMHpQl5y2iw",
        "colab": {
          "base_uri": "https://localhost:8080/"
        },
        "outputId": "002d69c1-b876-4f70-d9ae-b653eaead90b"
      },
      "outputs": [
        {
          "output_type": "stream",
          "name": "stdout",
          "text": [
            "119/119 [==============================] - 0s 3ms/step\n",
            "best_model_nodes = 64\n",
            "best_model_dropout = 0.2\n",
            "best_model_lr = 0.001\n",
            "best_model_batch_size = 64\n"
          ]
        }
      ],
      "source": [
        "y_pred = least_loss_model.predict(X_test)\n",
        "y_pred = (y_pred > 0.5).astype(int).reshape(-1,)\n",
        "print(\"best_model_nodes = {}\".format(best_model_nodes))\n",
        "print(\"best_model_dropout = {}\".format(best_model_dropout))\n",
        "print(\"best_model_lr = {}\".format(best_model_lr))\n",
        "print(\"best_model_batch_size = {}\".format(best_model_batch_size))"
      ]
    },
    {
      "cell_type": "code",
      "execution_count": null,
      "metadata": {
        "id": "e0rKUabRy5mi",
        "colab": {
          "base_uri": "https://localhost:8080/"
        },
        "outputId": "f7c4eb45-789d-4df3-d939-1a9549ec5af8"
      },
      "outputs": [
        {
          "output_type": "stream",
          "name": "stdout",
          "text": [
            "              precision    recall  f1-score   support\n",
            "\n",
            "           0       0.88      0.74      0.81      1350\n",
            "           1       0.87      0.95      0.91      2454\n",
            "\n",
            "    accuracy                           0.87      3804\n",
            "   macro avg       0.88      0.85      0.86      3804\n",
            "weighted avg       0.88      0.87      0.87      3804\n",
            "\n"
          ]
        }
      ],
      "source": [
        "print(classification_report(y_test, y_pred))"
      ]
    }
  ],
  "metadata": {
    "colab": {
      "provenance": []
    },
    "kernelspec": {
      "display_name": "Python 3",
      "name": "python3"
    },
    "language_info": {
      "name": "python"
    }
  },
  "nbformat": 4,
  "nbformat_minor": 0
}